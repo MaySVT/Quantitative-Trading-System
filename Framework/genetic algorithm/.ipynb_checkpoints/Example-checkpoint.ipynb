{
 "cells": [
  {
   "cell_type": "code",
   "execution_count": 49,
   "id": "1ce8ea01",
   "metadata": {},
   "outputs": [],
   "source": [
    "import pandas as pd\n",
    "import numpy as np\n",
    "import matplotlib.pyplot as plt\n",
    "import gplearn\n",
    "import talib\n",
    "from gp_extend_func import *\n",
    "from gplearn import genetic\n",
    "import gplearn"
   ]
  },
  {
   "cell_type": "markdown",
   "id": "9cee8f7f",
   "metadata": {},
   "source": [
    "数据处理"
   ]
  },
  {
   "cell_type": "code",
   "execution_count": 7,
   "id": "28638622",
   "metadata": {},
   "outputs": [],
   "source": [
    "data = pd.read_csv('./data/example.csv')"
   ]
  },
  {
   "cell_type": "code",
   "execution_count": 9,
   "id": "1f037561",
   "metadata": {},
   "outputs": [],
   "source": [
    "data['open_time'] = pd.to_datetime(data.open_time)"
   ]
  },
  {
   "cell_type": "code",
   "execution_count": 13,
   "id": "6260acae",
   "metadata": {},
   "outputs": [
    {
     "data": {
      "text/plain": [
       "open_time    False\n",
       "open         False\n",
       "high         False\n",
       "low          False\n",
       "close        False\n",
       "volume       False\n",
       "dtype: bool"
      ]
     },
     "execution_count": 13,
     "metadata": {},
     "output_type": "execute_result"
    }
   ],
   "source": [
    "data.isnull().any()"
   ]
  },
  {
   "cell_type": "markdown",
   "id": "a1149c8f",
   "metadata": {},
   "source": [
    "因子计算"
   ]
  },
  {
   "cell_type": "code",
   "execution_count": 16,
   "id": "49ab4a7b",
   "metadata": {},
   "outputs": [],
   "source": [
    "from factor import factor"
   ]
  },
  {
   "cell_type": "code",
   "execution_count": 17,
   "id": "064ec2c2",
   "metadata": {},
   "outputs": [],
   "source": [
    "data = factor(data)"
   ]
  },
  {
   "cell_type": "code",
   "execution_count": 22,
   "id": "7e0bfef3",
   "metadata": {},
   "outputs": [
    {
     "data": {
      "text/plain": [
       "<bound method factor.get_ROC of <factor.factor object at 0x000001BFC4DC3FD0>>"
      ]
     },
     "execution_count": 22,
     "metadata": {},
     "output_type": "execute_result"
    }
   ],
   "source": [
    "data.get_AD()\n",
    "data.get_ATR()\n",
    "data.get_BBANDS()\n",
    "data.get_EMA()\n",
    "data.get_OBV()\n",
    "data.get_ROC"
   ]
  },
  {
   "cell_type": "code",
   "execution_count": 23,
   "id": "17a05df6",
   "metadata": {},
   "outputs": [],
   "source": [
    "df = data.get_df()"
   ]
  },
  {
   "cell_type": "code",
   "execution_count": 25,
   "id": "7456062f",
   "metadata": {},
   "outputs": [],
   "source": [
    "df = df.fillna(method = 'bfill').fillna(method = 'ffill')"
   ]
  },
  {
   "cell_type": "code",
   "execution_count": 26,
   "id": "e756f8ee",
   "metadata": {},
   "outputs": [
    {
     "data": {
      "text/html": [
       "<div>\n",
       "<style scoped>\n",
       "    .dataframe tbody tr th:only-of-type {\n",
       "        vertical-align: middle;\n",
       "    }\n",
       "\n",
       "    .dataframe tbody tr th {\n",
       "        vertical-align: top;\n",
       "    }\n",
       "\n",
       "    .dataframe thead th {\n",
       "        text-align: right;\n",
       "    }\n",
       "</style>\n",
       "<table border=\"1\" class=\"dataframe\">\n",
       "  <thead>\n",
       "    <tr style=\"text-align: right;\">\n",
       "      <th></th>\n",
       "      <th>open_time</th>\n",
       "      <th>open</th>\n",
       "      <th>high</th>\n",
       "      <th>low</th>\n",
       "      <th>close</th>\n",
       "      <th>volume</th>\n",
       "      <th>AD</th>\n",
       "      <th>ATR</th>\n",
       "      <th>BBANDS_upper</th>\n",
       "      <th>BBANDS_middle</th>\n",
       "      <th>BBANDS_lower</th>\n",
       "      <th>EMA</th>\n",
       "      <th>OBV</th>\n",
       "    </tr>\n",
       "  </thead>\n",
       "  <tbody>\n",
       "    <tr>\n",
       "      <th>0</th>\n",
       "      <td>2019-10-01 00:00:00</td>\n",
       "      <td>8284.87</td>\n",
       "      <td>8286.05</td>\n",
       "      <td>8238.01</td>\n",
       "      <td>8242.33</td>\n",
       "      <td>219.186121</td>\n",
       "      <td>-179.765470</td>\n",
       "      <td>21.767857</td>\n",
       "      <td>8254.667303</td>\n",
       "      <td>8236.41</td>\n",
       "      <td>8218.152697</td>\n",
       "      <td>8233.74</td>\n",
       "      <td>219.186121</td>\n",
       "    </tr>\n",
       "    <tr>\n",
       "      <th>1</th>\n",
       "      <td>2019-10-01 00:05:00</td>\n",
       "      <td>8241.55</td>\n",
       "      <td>8249.79</td>\n",
       "      <td>8230.03</td>\n",
       "      <td>8234.22</td>\n",
       "      <td>164.891499</td>\n",
       "      <td>-274.728286</td>\n",
       "      <td>21.767857</td>\n",
       "      <td>8254.667303</td>\n",
       "      <td>8236.41</td>\n",
       "      <td>8218.152697</td>\n",
       "      <td>8233.74</td>\n",
       "      <td>54.294622</td>\n",
       "    </tr>\n",
       "    <tr>\n",
       "      <th>2</th>\n",
       "      <td>2019-10-01 00:10:00</td>\n",
       "      <td>8235.52</td>\n",
       "      <td>8245.07</td>\n",
       "      <td>8206.57</td>\n",
       "      <td>8243.39</td>\n",
       "      <td>175.031226</td>\n",
       "      <td>-114.972513</td>\n",
       "      <td>21.767857</td>\n",
       "      <td>8254.667303</td>\n",
       "      <td>8236.41</td>\n",
       "      <td>8218.152697</td>\n",
       "      <td>8233.74</td>\n",
       "      <td>229.325848</td>\n",
       "    </tr>\n",
       "    <tr>\n",
       "      <th>3</th>\n",
       "      <td>2019-10-01 00:15:00</td>\n",
       "      <td>8242.94</td>\n",
       "      <td>8252.53</td>\n",
       "      <td>8235.18</td>\n",
       "      <td>8242.69</td>\n",
       "      <td>93.312935</td>\n",
       "      <td>-127.503875</td>\n",
       "      <td>21.767857</td>\n",
       "      <td>8254.667303</td>\n",
       "      <td>8236.41</td>\n",
       "      <td>8218.152697</td>\n",
       "      <td>8233.74</td>\n",
       "      <td>136.012913</td>\n",
       "    </tr>\n",
       "    <tr>\n",
       "      <th>4</th>\n",
       "      <td>2019-10-01 00:20:00</td>\n",
       "      <td>8239.17</td>\n",
       "      <td>8239.31</td>\n",
       "      <td>8210.01</td>\n",
       "      <td>8219.42</td>\n",
       "      <td>163.807780</td>\n",
       "      <td>-186.094508</td>\n",
       "      <td>21.767857</td>\n",
       "      <td>8254.667303</td>\n",
       "      <td>8236.41</td>\n",
       "      <td>8218.152697</td>\n",
       "      <td>8233.74</td>\n",
       "      <td>-27.794867</td>\n",
       "    </tr>\n",
       "  </tbody>\n",
       "</table>\n",
       "</div>"
      ],
      "text/plain": [
       "            open_time     open     high      low    close      volume  \\\n",
       "0 2019-10-01 00:00:00  8284.87  8286.05  8238.01  8242.33  219.186121   \n",
       "1 2019-10-01 00:05:00  8241.55  8249.79  8230.03  8234.22  164.891499   \n",
       "2 2019-10-01 00:10:00  8235.52  8245.07  8206.57  8243.39  175.031226   \n",
       "3 2019-10-01 00:15:00  8242.94  8252.53  8235.18  8242.69   93.312935   \n",
       "4 2019-10-01 00:20:00  8239.17  8239.31  8210.01  8219.42  163.807780   \n",
       "\n",
       "           AD        ATR  BBANDS_upper  BBANDS_middle  BBANDS_lower      EMA  \\\n",
       "0 -179.765470  21.767857   8254.667303        8236.41   8218.152697  8233.74   \n",
       "1 -274.728286  21.767857   8254.667303        8236.41   8218.152697  8233.74   \n",
       "2 -114.972513  21.767857   8254.667303        8236.41   8218.152697  8233.74   \n",
       "3 -127.503875  21.767857   8254.667303        8236.41   8218.152697  8233.74   \n",
       "4 -186.094508  21.767857   8254.667303        8236.41   8218.152697  8233.74   \n",
       "\n",
       "          OBV  \n",
       "0  219.186121  \n",
       "1   54.294622  \n",
       "2  229.325848  \n",
       "3  136.012913  \n",
       "4  -27.794867  "
      ]
     },
     "execution_count": 26,
     "metadata": {},
     "output_type": "execute_result"
    }
   ],
   "source": [
    "df.head(5)"
   ]
  },
  {
   "cell_type": "code",
   "execution_count": 38,
   "id": "d748a920",
   "metadata": {},
   "outputs": [],
   "source": [
    "df['pnl'] = df.close - df.open"
   ]
  },
  {
   "cell_type": "code",
   "execution_count": 42,
   "id": "47141c8d",
   "metadata": {},
   "outputs": [
    {
     "name": "stdout",
     "output_type": "stream",
     "text": [
      "因子AD的IC值为：0.002763124573685877\n",
      "因子ATR的IC值为：-0.008347931887282702\n",
      "因子BBANDS_upper的IC值为：0.00135961396029142\n",
      "因子BBANDS_middle的IC值为：0.0017885266162179245\n",
      "因子BBANDS_lower的IC值为：0.002216971724547392\n",
      "因子EMA的IC值为：0.001330004021102788\n",
      "因子OBV的IC值为：-0.0013446825175221474\n"
     ]
    }
   ],
   "source": [
    "#IC初筛\n",
    "factor_lst = ['AD','ATR','BBANDS_upper','BBANDS_middle','BBANDS_lower','EMA','OBV']\n",
    "for factor in factor_lst:\n",
    "    ic = df[factor][:-1].corr(df.pnl[1:])\n",
    "    print(f'因子{factor}的IC值为：{ic}')"
   ]
  },
  {
   "cell_type": "markdown",
   "id": "a9dfa13a",
   "metadata": {},
   "source": [
    "遗传算法"
   ]
  },
  {
   "cell_type": "code",
   "execution_count": 45,
   "id": "1b90b1eb",
   "metadata": {},
   "outputs": [],
   "source": [
    "#make运算function\n",
    "gp_add = gplearn.functions.make_function(function=gp_add, name='gp_add', arity=2)\n",
    "gp_sub = gplearn.functions.make_function(function=gp_sub, name='gp_sub', arity=2)\n",
    "gp_mul = gplearn.functions.make_function(function=gp_mul, name='gp_mul', arity=2)\n",
    "gp_div = gplearn.functions.make_function(function=gp_div, name='gp_div', arity=2)\n",
    "gp_max = gplearn.functions.make_function(function=gp_max, name='gp_max', arity=2)\n",
    "gp_min = gplearn.functions.make_function(function=gp_min, name='gp_min', arity=2)\n",
    "gp_sqrt = gplearn.functions.make_function(function=gp_sqrt, name='gp_sqrt', arity=1)\n",
    "gp_log = gplearn.functions.make_function(function=gp_log, name='gp_log', arity=1)\n",
    "gp_neg = gplearn.functions.make_function(function=gp_neg, name='gp_neg', arity=1)\n",
    "gp_inv = gplearn.functions.make_function(function=gp_inv, name='gp_inv', arity=1)\n",
    "gp_abs = gplearn.functions.make_function(function=gp_abs, name='gp_abs', arity=1)\n",
    "gp_sin = gplearn.functions.make_function(function=gp_sin, name='gp_sin', arity=1)\n",
    "gp_cos = gplearn.functions.make_function(function=gp_cos, name='gp_cos', arity=1)\n",
    "gp_tan = gplearn.functions.make_function(function=gp_tan, name='gp_tan', arity=1)\n",
    "gp_sig = gplearn.functions.make_function(function=gp_sig, name='gp_sig', arity=1)\n",
    "delta = gplearn.functions.make_function(function=delta, name='delta', arity=1)\n",
    "delay = gplearn.functions.make_function(function=delay, name='delay', arity=1)\n",
    "sma = gplearn.functions.make_function(function=sma, name='sma', arity=1)\n",
    "stddev = gplearn.functions.make_function(function=stddev, name='stddev', arity=1)\n",
    "product = gplearn.functions.make_function(function=product, name='product', arity=1)\n",
    "ts_min = gplearn.functions.make_function(function=ts_min, name='ts_min', arity=1)\n",
    "ts_max = gplearn.functions.make_function(function=ts_max, name='ts_max', arity=1)\n",
    "ts_argmax = gplearn.functions.make_function(function=ts_argmax, name='ts_argmax', arity=1)\n",
    "ts_argmin = gplearn.functions.make_function(function=ts_argmin, name='ts_argmin', arity=1)\n",
    "ts_sum = gplearn.functions.make_function(function=ts_sum, name='ts_sum', arity=1)\n",
    "\n",
    "\n",
    "init_function = [gp_add, gp_sub, gp_mul, gp_div, \n",
    "                 gp_sqrt, gp_log, gp_neg, gp_inv, \n",
    "                 gp_abs, gp_max, gp_min, gp_sin,\n",
    "                 gp_cos, gp_tan, gp_sig]\n",
    "user_function = [delta, delay,sma, stddev, product,ts_min, ts_max, ts_argmax, ts_argmin,ts_sum]"
   ]
  },
  {
   "cell_type": "code",
   "execution_count": 46,
   "id": "b9e1387e",
   "metadata": {},
   "outputs": [],
   "source": [
    "from sklearn.model_selection import train_test_split"
   ]
  },
  {
   "cell_type": "code",
   "execution_count": 47,
   "id": "220d358c",
   "metadata": {},
   "outputs": [],
   "source": [
    "X = df[factor_lst][:-1]\n",
    "y = df['pnl'][1:]\n",
    "X_train,X_test,y_train,y_test = train_test_split(X,y,train_size=0.8)"
   ]
  },
  {
   "cell_type": "code",
   "execution_count": 52,
   "id": "0de8925f",
   "metadata": {},
   "outputs": [
    {
     "name": "stderr",
     "output_type": "stream",
     "text": [
      "C:\\Users\\lrd\\Desktop\\genetic algorithm\\gp_extend_func.py:27: RuntimeWarning: overflow encountered in divide\n",
      "  \n"
     ]
    },
    {
     "data": {
      "text/html": [
       "<style>#sk-container-id-1 {color: black;background-color: white;}#sk-container-id-1 pre{padding: 0;}#sk-container-id-1 div.sk-toggleable {background-color: white;}#sk-container-id-1 label.sk-toggleable__label {cursor: pointer;display: block;width: 100%;margin-bottom: 0;padding: 0.3em;box-sizing: border-box;text-align: center;}#sk-container-id-1 label.sk-toggleable__label-arrow:before {content: \"▸\";float: left;margin-right: 0.25em;color: #696969;}#sk-container-id-1 label.sk-toggleable__label-arrow:hover:before {color: black;}#sk-container-id-1 div.sk-estimator:hover label.sk-toggleable__label-arrow:before {color: black;}#sk-container-id-1 div.sk-toggleable__content {max-height: 0;max-width: 0;overflow: hidden;text-align: left;background-color: #f0f8ff;}#sk-container-id-1 div.sk-toggleable__content pre {margin: 0.2em;color: black;border-radius: 0.25em;background-color: #f0f8ff;}#sk-container-id-1 input.sk-toggleable__control:checked~div.sk-toggleable__content {max-height: 200px;max-width: 100%;overflow: auto;}#sk-container-id-1 input.sk-toggleable__control:checked~label.sk-toggleable__label-arrow:before {content: \"▾\";}#sk-container-id-1 div.sk-estimator input.sk-toggleable__control:checked~label.sk-toggleable__label {background-color: #d4ebff;}#sk-container-id-1 div.sk-label input.sk-toggleable__control:checked~label.sk-toggleable__label {background-color: #d4ebff;}#sk-container-id-1 input.sk-hidden--visually {border: 0;clip: rect(1px 1px 1px 1px);clip: rect(1px, 1px, 1px, 1px);height: 1px;margin: -1px;overflow: hidden;padding: 0;position: absolute;width: 1px;}#sk-container-id-1 div.sk-estimator {font-family: monospace;background-color: #f0f8ff;border: 1px dotted black;border-radius: 0.25em;box-sizing: border-box;margin-bottom: 0.5em;}#sk-container-id-1 div.sk-estimator:hover {background-color: #d4ebff;}#sk-container-id-1 div.sk-parallel-item::after {content: \"\";width: 100%;border-bottom: 1px solid gray;flex-grow: 1;}#sk-container-id-1 div.sk-label:hover label.sk-toggleable__label {background-color: #d4ebff;}#sk-container-id-1 div.sk-serial::before {content: \"\";position: absolute;border-left: 1px solid gray;box-sizing: border-box;top: 0;bottom: 0;left: 50%;z-index: 0;}#sk-container-id-1 div.sk-serial {display: flex;flex-direction: column;align-items: center;background-color: white;padding-right: 0.2em;padding-left: 0.2em;position: relative;}#sk-container-id-1 div.sk-item {position: relative;z-index: 1;}#sk-container-id-1 div.sk-parallel {display: flex;align-items: stretch;justify-content: center;background-color: white;position: relative;}#sk-container-id-1 div.sk-item::before, #sk-container-id-1 div.sk-parallel-item::before {content: \"\";position: absolute;border-left: 1px solid gray;box-sizing: border-box;top: 0;bottom: 0;left: 50%;z-index: -1;}#sk-container-id-1 div.sk-parallel-item {display: flex;flex-direction: column;z-index: 1;position: relative;background-color: white;}#sk-container-id-1 div.sk-parallel-item:first-child::after {align-self: flex-end;width: 50%;}#sk-container-id-1 div.sk-parallel-item:last-child::after {align-self: flex-start;width: 50%;}#sk-container-id-1 div.sk-parallel-item:only-child::after {width: 0;}#sk-container-id-1 div.sk-dashed-wrapped {border: 1px dashed gray;margin: 0 0.4em 0.5em 0.4em;box-sizing: border-box;padding-bottom: 0.4em;background-color: white;}#sk-container-id-1 div.sk-label label {font-family: monospace;font-weight: bold;display: inline-block;line-height: 1.2em;}#sk-container-id-1 div.sk-label-container {text-align: center;}#sk-container-id-1 div.sk-container {/* jupyter's `normalize.less` sets `[hidden] { display: none; }` but bootstrap.min.css set `[hidden] { display: none !important; }` so we also need the `!important` here to be able to override the default hidden behavior on the sphinx rendered scikit-learn.org. See: https://github.com/scikit-learn/scikit-learn/issues/21755 */display: inline-block !important;position: relative;}#sk-container-id-1 div.sk-text-repr-fallback {display: none;}</style><div id=\"sk-container-id-1\" class=\"sk-top-container\"><div class=\"sk-text-repr-fallback\"><pre>[gp_div(gp_max(AD, EMA), gp_sig(OBV)),\n",
       " delay(sma(BBANDS_middle)),\n",
       " gp_div(gp_max(AD, EMA), gp_abs(BBANDS_middle)),\n",
       " BBANDS_middle,\n",
       " gp_cos(ts_min(gp_div(gp_max(AD, EMA), gp_sig(OBV))))]</pre><b>In a Jupyter environment, please rerun this cell to show the HTML representation or trust the notebook. <br />On GitHub, the HTML representation is unable to render, please try loading this page with nbviewer.org.</b></div><div class=\"sk-container\" hidden><div class=\"sk-item\"><div class=\"sk-estimator sk-toggleable\"><input class=\"sk-toggleable__control sk-hidden--visually\" id=\"sk-estimator-id-1\" type=\"checkbox\" checked><label for=\"sk-estimator-id-1\" class=\"sk-toggleable__label sk-toggleable__label-arrow\">SymbolicTransformer</label><div class=\"sk-toggleable__content\"><pre>[gp_div(gp_max(AD, EMA), gp_sig(OBV)),\n",
       " delay(sma(BBANDS_middle)),\n",
       " gp_div(gp_max(AD, EMA), gp_abs(BBANDS_middle)),\n",
       " BBANDS_middle,\n",
       " gp_cos(ts_min(gp_div(gp_max(AD, EMA), gp_sig(OBV))))]</pre></div></div></div></div></div>"
      ],
      "text/plain": [
       "SymbolicTransformer(feature_names=['AD', 'ATR', 'BBANDS_upper', 'BBANDS_middle',\n",
       "                                   'BBANDS_lower', 'EMA', 'OBV'],\n",
       "                    function_set=[<gplearn.functions._Function object at 0x000001BFCD083EB0>,\n",
       "                                  <gplearn.functions._Function object at 0x000001BFCD083E50>,\n",
       "                                  <gplearn.functions._Function object at 0x000001BFCD083F70>,\n",
       "                                  <gplearn.functions._Function object at 0x000001BFCD083D60>,\n",
       "                                  <gplear...\n",
       "                                  <gplearn.functions._Function object at 0x000001BFCD09FEB0>,\n",
       "                                  <gplearn.functions._Function object at 0x000001BFCD089C70>,\n",
       "                                  <gplearn.functions._Function object at 0x000001BFCD089970>,\n",
       "                                  <gplearn.functions._Function object at 0x000001BFCD089E80>],\n",
       "                    generations=2, hall_of_fame=10, init_depth=(2, 4),\n",
       "                    metric='spearman', n_components=5, n_jobs=-1,\n",
       "                    population_size=20, random_state=666, tournament_size=10)"
      ]
     },
     "execution_count": 52,
     "metadata": {},
     "output_type": "execute_result"
    }
   ],
   "source": [
    "generations = 2 #迭代的次数\n",
    "population_size = 20  #种群规模(每一代个体数目即初始树的个数)\n",
    "tournament_size = 10  #迭代一次进入下一次迭代数量\n",
    "hall_of_fame = 10 #备选数量\n",
    "n_components = 5 #返回公式个数\n",
    "random_state=666 #锁随机子可以随便写个整数\n",
    "n_jobs = -1 #CPU核心个数.-1为全部核心\n",
    "function_set = init_function + user_function #迭代的公式\n",
    "init_method ='half and half'  #‘grow’公式和基础数据随机抽，'full'叶子抽基础数据，节点抽公式，‘half and half’ 前面两种各一半\n",
    "init_depth =(2,4)  #分枝的的深度\n",
    "\n",
    "gp = genetic.SymbolicTransformer(\n",
    "                        feature_names= factor_lst,           #基础行情数据的变量名\n",
    "                        function_set=function_set,          #迭代的函数公式\n",
    "                        generations=generations,            #迭代的次数\n",
    "                        metric='spearman',                  #适应度的评价标准\n",
    "                        population_size=population_size,    #迭代的和序数\n",
    "                        tournament_size=tournament_size,                \n",
    "                        random_state=random_state,\n",
    "                        hall_of_fame = hall_of_fame,                   \n",
    "                        n_components = n_components,\n",
    "                        n_jobs =n_jobs,\n",
    "                        init_method=init_method,\n",
    "                        init_depth = init_depth\n",
    "                         )\n",
    "gp.fit(X_train, y_train)"
   ]
  },
  {
   "cell_type": "code",
   "execution_count": 54,
   "id": "93186ab7",
   "metadata": {},
   "outputs": [
    {
     "name": "stdout",
     "output_type": "stream",
     "text": [
      "[gp_div(gp_max(AD, EMA), gp_sig(OBV)),\n",
      " delay(sma(BBANDS_middle)),\n",
      " gp_div(gp_max(AD, EMA), gp_abs(BBANDS_middle)),\n",
      " BBANDS_middle,\n",
      " gp_cos(ts_min(gp_div(gp_max(AD, EMA), gp_sig(OBV))))]\n"
     ]
    }
   ],
   "source": [
    "print(gp)"
   ]
  },
  {
   "cell_type": "code",
   "execution_count": 71,
   "id": "dd4bd054",
   "metadata": {},
   "outputs": [
    {
     "data": {
      "text/plain": [
       "-0.0016662924282371178"
      ]
     },
     "execution_count": 71,
     "metadata": {},
     "output_type": "execute_result"
    }
   ],
   "source": [
    "x = X_train[['AD','EMA']].max(axis = 1)/X_train['BBANDS_middle'].abs()\n",
    "x.corr(y_train)"
   ]
  },
  {
   "cell_type": "code",
   "execution_count": 72,
   "id": "146ff115",
   "metadata": {},
   "outputs": [
    {
     "data": {
      "text/plain": [
       "0.01008154376503625"
      ]
     },
     "execution_count": 72,
     "metadata": {},
     "output_type": "execute_result"
    }
   ],
   "source": [
    "x = X_test[['AD','EMA']].max(axis = 1)/X_test['BBANDS_middle'].abs()\n",
    "x.corr(y_test)"
   ]
  },
  {
   "cell_type": "markdown",
   "id": "4079c67b",
   "metadata": {},
   "source": [
    "我们的创新点：\n",
    "1、适应度函数(除了IC以外，还可以是KS等，还可以加权）\n",
    "\n",
    "2、因子(可以不停更新factor）"
   ]
  }
 ],
 "metadata": {
  "kernelspec": {
   "display_name": "Python 3 (ipykernel)",
   "language": "python",
   "name": "python3"
  },
  "language_info": {
   "codemirror_mode": {
    "name": "ipython",
    "version": 3
   },
   "file_extension": ".py",
   "mimetype": "text/x-python",
   "name": "python",
   "nbconvert_exporter": "python",
   "pygments_lexer": "ipython3",
   "version": "3.9.0"
  }
 },
 "nbformat": 4,
 "nbformat_minor": 5
}
